{
 "cells": [
  {
   "cell_type": "markdown",
   "id": "a24ed11f-b0e1-46e4-aa81-a33b4ef5d359",
   "metadata": {},
   "source": [
    "[ 출처 : https://velog.io/@ayoung0073/python-list ]\n",
    "# [Python] 리스트(List) vs 배열(Array)\n",
    "\n",
    "## Arrays와 Lists의 공통점\n",
    "* 아이템들의 컬렉션\n",
    "* 아이템들의 순서 존재\n",
    "\n",
    "## Arrays와 Lists의 차이점\n",
    "### Arrays \n",
    "* 배열은 인덱스가 존재\n",
    "* 데이터의 위치에 대해 직접적인 접근 가능\n",
    "* 반드시 할당된 공간은 연속적 -> 조회가 빠름, cache hit 가능성 ↑\n",
    "* 미리 배열의 크기를 지정해야하고, 고정되어있는 배열의 크기때문에 데이터의 추가 및 삭제가 불편\n",
    "\n",
    "### Lists\n",
    "* 인덱스를 갖지만, 몇번째 데이터인지 정도 의미\n",
    "* 메모리 주소가 연속적이 아닐 수도 있음\n",
    "* 포인터를 통해 다음 데이터의 위치를 가리키고 있어 삽입, 삭제가 쉬움\n",
    "* 동적이므로, 배열과 다르게 크기가 정해져 있지 X\n",
    "* 검색 성능이 좋지 않음, 직접적인 접근이 불가능하고, 처음부터 찾아야한다 => 확실하게 정해져 있는 데이터는 배열이 효율적"
   ]
  },
  {
   "cell_type": "markdown",
   "id": "05987b38-f1b6-483b-b908-53a20647ec7a",
   "metadata": {},
   "source": [
    "## N차원 리스트 선언\n",
    "문제를 풀면서 가장 헷갈릴만한 부분 "
   ]
  },
  {
   "cell_type": "markdown",
   "id": "b2dc0cd1-32ab-4c5b-bf64-09533e930dbc",
   "metadata": {},
   "source": [
    "### 1. 다차원 리스트"
   ]
  },
  {
   "cell_type": "code",
   "execution_count": null,
   "id": "e47502b3-ccde-48d2-a57b-4043f4154342",
   "metadata": {},
   "outputs": [],
   "source": [
    "n = 5\n",
    "arr1 = [[0 for j in range(n)] for i in range(n)]\n",
    "arr2 = [[0] * n] * n\n",
    "arr3 = [[0] * n for i in range(n)]\n",
    "\n",
    "print(arr1)\n",
    "print(arr2)\n",
    "print(arr3)\n",
    "\n",
    "'''\n",
    "[[0, 0, 0, 0, 0], [0, 0, 0, 0, 0], [0, 0, 0, 0, 0], [0, 0, 0, 0, 0], [0, 0, 0, 0, 0]]\n",
    "[[0, 0, 0, 0, 0], [0, 0, 0, 0, 0], [0, 0, 0, 0, 0], [0, 0, 0, 0, 0], [0, 0, 0, 0, 0]]\n",
    "[[0, 0, 0, 0, 0], [0, 0, 0, 0, 0], [0, 0, 0, 0, 0], [0, 0, 0, 0, 0], [0, 0, 0, 0, 0]]\n",
    "'''\n",
    "\n",
    "arr1[1][2] = 3\n",
    "arr2[1][2] = 3\n",
    "arr3[1][2] = 3\n",
    "\n",
    "print(arr1)\n",
    "print(arr2)\n",
    "print(arr3)\n",
    "\n",
    "'''\n",
    "[[0, 0, 0, 0, 0], [0, 0, 3, 0, 0], [0, 0, 0, 0, 0], [0, 0, 0, 0, 0], [0, 0, 0, 0, 0]]\n",
    "[[0, 0, 3, 0, 0], [0, 0, 3, 0, 0], [0, 0, 3, 0, 0], [0, 0, 3, 0, 0], [0, 0, 3, 0, 0]]\n",
    "[[0, 0, 0, 0, 0], [0, 0, 3, 0, 0], [0, 0, 0, 0, 0], [0, 0, 0, 0, 0], [0, 0, 0, 0, 0]]\n",
    "'''"
   ]
  },
  {
   "cell_type": "markdown",
   "id": "7d3bcce4-7fde-42b6-a483-f85747ec6b22",
   "metadata": {},
   "source": [
    "arr2를 확인하자<br>\n",
    "arr2[1][2] = 3 을 명령하였지만,<br>\n",
    "[[0, 0, 3, 0, 0], [0, 0, 3, 0, 0], [0, 0, 3, 0, 0], [0, 0, 3, 0, 0], [0, 0, 3, 0, 0]]<br>\n",
    "모든 행의 3번째 값이 3으로 수정된 것을 확인할 수 있다.<br>\n",
    "[[0] * n] * n 으로 리스트를 초기화할 경우, n개의 [0] * n은 모두 같은 객체로 인식이 된다.\n",
    "\n",
    "그렇기 때문에 꼭 다차원 리스트를 선언할 때는,<br>\n",
    "[[0 for j in range(n)] for i in range(n)]<br>\n",
    "[[0] * n for i in range(n)]<br>\n",
    "이렇게 선언하도록 하자 ❗ ❗"
   ]
  },
  {
   "cell_type": "markdown",
   "id": "401757f1-9673-42cb-9ddd-8b06359e1346",
   "metadata": {},
   "source": [
    "### 2. 1차원 리스트"
   ]
  },
  {
   "cell_type": "code",
   "execution_count": null,
   "id": "ff9a0237-05af-4460-a2a8-23dfd59093d7",
   "metadata": {},
   "outputs": [],
   "source": [
    "arr1 = [0 for i in range(n)]\n",
    "arr2 = [0] * n\n",
    "\n",
    "print(arr1)\n",
    "print(arr2)\n",
    "\n",
    "'''\n",
    "[0, 0, 0, 0, 0]\n",
    "[0, 0, 0, 0, 0]\n",
    "'''\n",
    "\n",
    "arr1[2] = 3\n",
    "arr2[2] = 3\n",
    "\n",
    "print(arr1)\n",
    "print(arr2)\n",
    "\n",
    "'''\n",
    "[0, 0, 3, 0, 0]\n",
    "[0, 0, 3, 0, 0]\n",
    "'''"
   ]
  },
  {
   "cell_type": "markdown",
   "id": "50e097cd-7f7c-409d-8b78-167add1dc7fc",
   "metadata": {},
   "source": [
    "1차원 리스트는 예상했던 대로 원하는 값만 수정할 수 있다.<br>\n",
    "각 열이 같은 객체로 인식 되니까 !!\n",
    "\n",
    "### 3. append도 적용해보자"
   ]
  },
  {
   "cell_type": "code",
   "execution_count": null,
   "id": "9a09c188-26fd-4bcd-a7cc-267e3f324229",
   "metadata": {},
   "outputs": [],
   "source": [
    "arr1 = [[] for i in range(n)]\n",
    "arr2 = [[]] * n\n",
    "\n",
    "print(arr1)\n",
    "print(arr2)\n",
    "'''\n",
    "[[], [], [], [], []]\n",
    "[[], [], [], [], []]\n",
    "'''\n",
    "\n",
    "arr1[2].append(3)\n",
    "arr2[2].append(3)\n",
    "\n",
    "print(arr1)\n",
    "print(arr2)\n",
    "\n",
    "'''\n",
    "[[], [], [3], [], []]\n",
    "[[3], [3], [3], [3], [3]]\n",
    "'''"
   ]
  },
  {
   "cell_type": "markdown",
   "id": "766377c0-47cd-4361-9f93-20a83c67bf8b",
   "metadata": {},
   "source": [
    "[[]] * n 로 선언한 경우, []는 모두 같은 객체로 인식됨. (이 문장을 기억하자) <br>\n",
    "그렇기 때문에 모든 배열에 3이 추가된 것을 확인 할 수 있다. <br>\n",
    "(pop도 마찬가지)"
   ]
  },
  {
   "cell_type": "markdown",
   "id": "02b900d5-c97c-4a40-a337-180cdca32b1a",
   "metadata": {},
   "source": [
    "---"
   ]
  },
  {
   "cell_type": "markdown",
   "id": "6507ac98-a41f-469f-96ae-d546b8212c57",
   "metadata": {},
   "source": [
    "### 문자열 일정 길이로 자르기\n",
    "s : 문자열, length : 문자열 길이, i : 자를 길이 단위"
   ]
  },
  {
   "cell_type": "code",
   "execution_count": null,
   "id": "98ac8baf-8c2e-41ba-84cc-b90c09493747",
   "metadata": {},
   "outputs": [],
   "source": [
    "arr = [s[j:j+i] for j in range(0, length, i)]\n",
    "arr = list(map(''.join, zip(*[iter(s)] * i)))"
   ]
  },
  {
   "cell_type": "markdown",
   "id": "bbbafa5f-b8b4-4141-9e8e-437ba5157686",
   "metadata": {},
   "source": [
    "문자열을 일정 길이로 잘라 배열로 만들 수 있다. \n",
    "\n",
    "여기서 zip 내장함수를 알고 가자"
   ]
  },
  {
   "cell_type": "markdown",
   "id": "18af2b74-86e5-4d6e-8cd9-60ef8fc249c0",
   "metadata": {},
   "source": [
    "### zip\n",
    "* zip()은 동일한 개수로 이루어진 자료형을 묶어 주는 역할을 하는 함수이다"
   ]
  },
  {
   "cell_type": "code",
   "execution_count": null,
   "id": "d1959f30-b951-4de0-968d-fb73639d8cc6",
   "metadata": {},
   "outputs": [],
   "source": [
    "num = [1, 2, 3, 4]\n",
    "name = ['ayong', 'marie', 'maum', 'maong']\n",
    "\n",
    "list1 = list(zip(num, name)) # 아이템이 튜플타입인 리스트\n",
    "dict1 = dict(list1) # 리스트를 딕셔너리 형태로\n",
    "\n",
    "print(list1)\n",
    "print(dict1)\n",
    "\n",
    "'''\n",
    "[(1, 'ayong'), (2, 'marie'), (3, 'maum'), (4, 'maong')]\n",
    "{1: 'ayong', 2: 'marie', 3: 'maum', 4: 'maong'}\n",
    "'''\n",
    "\n",
    "for n, m in zip(num, name):\n",
    "  print(n, m)\n",
    "\n",
    "'''\n",
    "1 ayong\n",
    "2 marie\n",
    "3 maum\n",
    "4 maong\n",
    "'''\n",
    "\n",
    "### 여기는 그냥 테스트\n",
    "print(set(list1))\n",
    "print(set(dict1))\n",
    "\n",
    "'''\n",
    "{(1, 'ayong'), (3, 'maum'), (4, 'maong'), (2, 'marie')}\n",
    "{1, 2, 3, 4}\n",
    "'''"
   ]
  }
 ],
 "metadata": {
  "kernelspec": {
   "display_name": "Python 3",
   "language": "python",
   "name": "python3"
  },
  "language_info": {
   "codemirror_mode": {
    "name": "ipython",
    "version": 3
   },
   "file_extension": ".py",
   "mimetype": "text/x-python",
   "name": "python",
   "nbconvert_exporter": "python",
   "pygments_lexer": "ipython3",
   "version": "3.8.8"
  }
 },
 "nbformat": 4,
 "nbformat_minor": 5
}
